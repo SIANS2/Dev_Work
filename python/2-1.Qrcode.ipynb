{
 "cells": [
  {
   "cell_type": "markdown",
   "id": "18a4de5e",
   "metadata": {},
   "source": [
    "## QRCode를 생성하는 프로그램\n",
    "\n",
    "* https://pypi.org/project/qrcode/"
   ]
  },
  {
   "cell_type": "markdown",
   "id": "3f0eed81",
   "metadata": {},
   "source": [
    "미니 플젝  : QRcode generator\n",
    "- 라이브러리 설치 및 활용\n",
    "- 요구사항을 생각해서 그것에 맞는 라이브러리가 있을까?\n",
    "- 나는 그것을 활용해야지!\n",
    "\n",
    "미니 플젝 : OCR\n",
    "- 라이브러리 활용\n",
    "- 리스트 자료형\n",
    "- for반복문\n",
    "\n",
    "미니 플젝 : voice assistance\n",
    "- 라이브러리 활용\n",
    "- 기능단위 잘라서 구현 (STT-> 로직 -> TTS) -> 사용자 정의 함수\n",
    "- 예외처리 try ~ except\n",
    "- if else, if elif\n",
    "- while 반복문 -> 무한루프\n",
    "- continue, break\n",
    "\n",
    "--------------------------------"
   ]
  },
  {
   "cell_type": "markdown",
   "id": "c3f5c2ea",
   "metadata": {},
   "source": [
    "9/14\n",
    "미니플젝 : 라이브러리, 예외처리, if, for, 파일 IO\n",
    "-현업에서 많이 활용하는 코드"
   ]
  },
  {
   "cell_type": "code",
   "execution_count": 1,
   "id": "be9841a7",
   "metadata": {},
   "outputs": [
    {
     "name": "stdout",
     "output_type": "stream",
     "text": [
      "Defaulting to user installation because normal site-packages is not writeable\n",
      "Collecting qrcode[pil]\n",
      "  Using cached qrcode-7.3.1.tar.gz (43 kB)\n",
      "  Preparing metadata (setup.py): started\n",
      "  Preparing metadata (setup.py): finished with status 'done'\n",
      "Collecting colorama\n",
      "  Using cached colorama-0.4.5-py2.py3-none-any.whl (16 kB)\n",
      "Collecting pillow\n",
      "  Downloading Pillow-9.2.0-cp39-cp39-win_amd64.whl (3.3 MB)\n",
      "     ---------------------------------------- 3.3/3.3 MB 10.5 MB/s eta 0:00:00\n",
      "Using legacy 'setup.py install' for qrcode, since package 'wheel' is not installed.\n",
      "Installing collected packages: pillow, colorama, qrcode\n",
      "  Running setup.py install for qrcode: started\n",
      "  Running setup.py install for qrcode: finished with status 'done'\n",
      "Successfully installed colorama-0.4.5 pillow-9.2.0 qrcode-7.3.1\n"
     ]
    }
   ],
   "source": [
    "! pip install qrcode[pil]"
   ]
  },
  {
   "cell_type": "code",
   "execution_count": 2,
   "id": "75a80e75",
   "metadata": {},
   "outputs": [],
   "source": [
    "import qrcode"
   ]
  },
  {
   "cell_type": "code",
   "execution_count": null,
   "id": "05531057",
   "metadata": {},
   "outputs": [],
   "source": [
    "dir"
   ]
  }
 ],
 "metadata": {
  "kernelspec": {
   "display_name": "Python 3.10.1 64-bit",
   "language": "python",
   "name": "python3"
  },
  "language_info": {
   "codemirror_mode": {
    "name": "ipython",
    "version": 3
   },
   "file_extension": ".py",
   "mimetype": "text/x-python",
   "name": "python",
   "nbconvert_exporter": "python",
   "pygments_lexer": "ipython3",
   "version": "3.10.1"
  },
  "vscode": {
   "interpreter": {
    "hash": "26de051ba29f2982a8de78e945f0abaf191376122a1563185a90213a26c5da77"
   }
  }
 },
 "nbformat": 4,
 "nbformat_minor": 5
}
