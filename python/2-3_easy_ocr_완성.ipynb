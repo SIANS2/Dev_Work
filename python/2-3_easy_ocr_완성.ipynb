{
  "cells": [
    {
      "cell_type": "markdown",
      "metadata": {
        "id": "lBVAcW7LsJqT"
      },
      "source": [
        "## 영수증을 분석하자!\n",
        "\n",
        "https://pypi.org/project/easyocr/"
      ]
    },
    {
      "cell_type": "code",
      "execution_count": null,
      "metadata": {
        "id": "_hd4fw9gsJqU",
        "outputId": "9f1c76b0-b3cb-4a82-e323-0e15eb772eda"
      },
      "outputs": [
        {
          "name": "stdout",
          "output_type": "stream",
          "text": [
            "Collecting easyocr\n",
            "  Using cached easyocr-1.6.1-py3-none-any.whl (2.9 MB)\n",
            "Collecting pyclipper\n",
            "  Using cached pyclipper-1.3.0.post3-cp39-cp39-win_amd64.whl (94 kB)\n",
            "Collecting torch\n",
            "  Using cached torch-1.12.1-cp39-cp39-win_amd64.whl (161.8 MB)\n",
            "Collecting opencv-python-headless<=4.5.4.60\n",
            "  Using cached opencv_python_headless-4.5.4.60-cp39-cp39-win_amd64.whl (35.0 MB)\n",
            "Collecting torchvision>=0.5\n",
            "  Using cached torchvision-0.13.1-cp39-cp39-win_amd64.whl (1.1 MB)\n",
            "Collecting PyYAML\n",
            "  Downloading PyYAML-6.0-cp39-cp39-win_amd64.whl (151 kB)\n",
            "     -------------------------------------- 151.6/151.6 kB 9.4 MB/s eta 0:00:00\n",
            "Requirement already satisfied: numpy in c:\\users\\miran\\appdata\\local\\programs\\python\\python39\\lib\\site-packages (from easyocr) (1.23.2)\n",
            "Collecting ninja\n",
            "  Using cached ninja-1.10.2.3-py2.py3-none-win_amd64.whl (292 kB)\n",
            "Requirement already satisfied: scipy in c:\\users\\miran\\appdata\\local\\programs\\python\\python39\\lib\\site-packages (from easyocr) (1.9.1)\n",
            "Collecting python-bidi\n",
            "  Using cached python_bidi-0.4.2-py2.py3-none-any.whl (30 kB)\n",
            "Collecting scikit-image\n",
            "  Downloading scikit_image-0.19.3-cp39-cp39-win_amd64.whl (12.1 MB)\n",
            "     --------------------------------------- 12.1/12.1 MB 25.2 MB/s eta 0:00:00\n",
            "Requirement already satisfied: Pillow in c:\\users\\miran\\appdata\\local\\programs\\python\\python39\\lib\\site-packages (from easyocr) (9.2.0)\n",
            "Collecting Shapely\n",
            "  Using cached Shapely-1.8.4-cp39-cp39-win_amd64.whl (1.3 MB)\n",
            "Requirement already satisfied: typing-extensions in c:\\users\\miran\\appdata\\local\\programs\\python\\python39\\lib\\site-packages (from torchvision>=0.5->easyocr) (4.3.0)\n",
            "Requirement already satisfied: requests in c:\\users\\miran\\appdata\\local\\programs\\python\\python39\\lib\\site-packages (from torchvision>=0.5->easyocr) (2.28.1)\n",
            "Requirement already satisfied: six in c:\\users\\miran\\appdata\\local\\programs\\python\\python39\\lib\\site-packages (from python-bidi->easyocr) (1.16.0)\n",
            "Collecting tifffile>=2019.7.26\n",
            "  Using cached tifffile-2022.8.12-py3-none-any.whl (208 kB)\n",
            "Collecting networkx>=2.2\n",
            "  Using cached networkx-2.8.6-py3-none-any.whl (2.0 MB)\n",
            "Collecting imageio>=2.4.1\n",
            "  Using cached imageio-2.21.2-py3-none-any.whl (3.4 MB)\n",
            "Collecting PyWavelets>=1.1.1\n",
            "  Downloading PyWavelets-1.3.0-cp39-cp39-win_amd64.whl (4.2 MB)\n",
            "     ---------------------------------------- 4.2/4.2 MB 44.2 MB/s eta 0:00:00\n",
            "Requirement already satisfied: packaging>=20.0 in c:\\users\\miran\\appdata\\roaming\\python\\python39\\site-packages (from scikit-image->easyocr) (21.3)\n",
            "Requirement already satisfied: pyparsing!=3.0.5,>=2.0.2 in c:\\users\\miran\\appdata\\roaming\\python\\python39\\site-packages (from packaging>=20.0->scikit-image->easyocr) (3.0.9)\n",
            "Requirement already satisfied: certifi>=2017.4.17 in c:\\users\\miran\\appdata\\local\\programs\\python\\python39\\lib\\site-packages (from requests->torchvision>=0.5->easyocr) (2022.6.15)\n",
            "Requirement already satisfied: charset-normalizer<3,>=2 in c:\\users\\miran\\appdata\\local\\programs\\python\\python39\\lib\\site-packages (from requests->torchvision>=0.5->easyocr) (2.1.1)\n",
            "Requirement already satisfied: idna<4,>=2.5 in c:\\users\\miran\\appdata\\local\\programs\\python\\python39\\lib\\site-packages (from requests->torchvision>=0.5->easyocr) (3.3)\n",
            "Requirement already satisfied: urllib3<1.27,>=1.21.1 in c:\\users\\miran\\appdata\\local\\programs\\python\\python39\\lib\\site-packages (from requests->torchvision>=0.5->easyocr) (1.26.12)\n",
            "Installing collected packages: pyclipper, ninja, torch, tifffile, Shapely, PyYAML, PyWavelets, python-bidi, opencv-python-headless, networkx, imageio, torchvision, scikit-image, easyocr\n",
            "Successfully installed PyWavelets-1.3.0 PyYAML-6.0 Shapely-1.8.4 easyocr-1.6.1 imageio-2.21.2 networkx-2.8.6 ninja-1.10.2.3 opencv-python-headless-4.5.4.60 pyclipper-1.3.0.post3 python-bidi-0.4.2 scikit-image-0.19.3 tifffile-2022.8.12 torch-1.12.1 torchvision-0.13.1\n",
            "Note: you may need to restart the kernel to use updated packages.\n"
          ]
        }
      ],
      "source": [
        "#vscode의 경우 % 매직커맨드 사용\n",
        "%pip install easyocr \n"
      ]
    },
    {
      "cell_type": "code",
      "execution_count": null,
      "metadata": {
        "id": "Klr0pJEysJqW",
        "outputId": "dcbf9cca-6600-4da5-bc34-8ef235831363"
      },
      "outputs": [
        {
          "name": "stderr",
          "output_type": "stream",
          "text": [
            "c:\\Users\\miran\\AppData\\Local\\Programs\\Python\\Python39\\lib\\site-packages\\tqdm\\auto.py:22: TqdmWarning: IProgress not found. Please update jupyter and ipywidgets. See https://ipywidgets.readthedocs.io/en/stable/user_install.html\n",
            "  from .autonotebook import tqdm as notebook_tqdm\n",
            "CUDA not available - defaulting to CPU. Note: This module is much faster with a GPU.\n",
            "c:\\Users\\miran\\AppData\\Local\\Programs\\Python\\Python39\\lib\\site-packages\\torchvision\\models\\_utils.py:252: UserWarning: Accessing the model URLs via the internal dictionary of the module is deprecated since 0.13 and will be removed in 0.15. Please access them via the appropriate Weights Enum instead.\n",
            "  warnings.warn(\n",
            "c:\\Users\\miran\\AppData\\Local\\Programs\\Python\\Python39\\lib\\site-packages\\torchvision\\models\\_utils.py:208: UserWarning: The parameter 'pretrained' is deprecated since 0.13 and will be removed in 0.15, please use 'weights' instead.\n",
            "  warnings.warn(\n",
            "c:\\Users\\miran\\AppData\\Local\\Programs\\Python\\Python39\\lib\\site-packages\\torchvision\\models\\_utils.py:223: UserWarning: Arguments other than a weight enum or `None` for 'weights' are deprecated since 0.13 and will be removed in 0.15. The current behavior is equivalent to passing `weights=None`.\n",
            "  warnings.warn(msg)\n"
          ]
        }
      ],
      "source": [
        "import easyocr\n",
        "reader = easyocr.Reader(['en','ko']) # this needs to run only once to load the model into memory\n",
        "result = reader.readtext('receipt2.jpg')"
      ]
    },
    {
      "cell_type": "code",
      "execution_count": null,
      "metadata": {
        "id": "QuW3L2X9sJqW",
        "outputId": "3d30fd76-3b86-4b84-b938-b0284d465317"
      },
      "outputs": [
        {
          "data": {
            "text/plain": [
              "[([[120, 168], [510, 168], [510, 200], [120, 200]],\n",
              "  '[신용카드 (승인) 전표]',\n",
              "  0.7136171386662249),\n",
              " ([[266, 196], [358, 196], [358, 222], [266, 222]],\n",
              "  '고 객 용',\n",
              "  0.39803181814648114),\n",
              " ([[94, 220], [122, 220], [122, 248], [94, 248]], '상', 0.999956131462568),\n",
              " ([[132, 218], [276, 218], [276, 250], [132, 250]],\n",
              "  '호: 왕순대식당',\n",
              "  0.9945652486325715),\n",
              " ([[94, 244], [334, 244], [334, 270], [94, 270]],\n",
              "  '사업자번오: 1UI-11-50148',\n",
              "  0.7229211086925474),\n",
              " ([[346, 244], [496, 244], [496, 272], [346, 272]],\n",
              "  '대표지 : 신영녀',\n",
              "  0.249223727621508),\n",
              " ([[94, 268], [120, 268], [120, 318], [94, 318]], '준', 0.15215313340650383),\n",
              " ([[132, 268], [392, 268], [392, 298], [132, 298]],\n",
              "  '소: 서울 종로구 수표로2길',\n",
              "  0.7591122892870698),\n",
              " ([[130, 294], [166, 294], [166, 318], [130, 318]], '화:', 0.699841511129514),\n",
              " ([[178, 294], [304, 294], [304, 318], [178, 318]],\n",
              "  '02-2266-2379',\n",
              "  0.6044298354013481),\n",
              " ([[92, 340], [514, 340], [514, 372], [92, 372]],\n",
              "  '2017년12월03일 13:01 ND:0048 01-초기사용자',\n",
              "  0.5583685243115355),\n",
              " ([[90, 388], [172, 388], [172, 414], [90, 414]], '카 드명', 0.7784565687179565),\n",
              " ([[206, 390], [338, 390], [338, 416], [206, 416]],\n",
              "  '하나   (구외완)',\n",
              "  0.5122767067923734),\n",
              " ([[86, 410], [170, 410], [170, 436], [86, 436]], '카드번호', 0.989273726940155),\n",
              " ([[204, 412], [310, 412], [310, 438], [204, 438]],\n",
              "  '524335****',\n",
              "  0.9979216616895884),\n",
              " ([[327, 421], [371, 421], [371, 433], [327, 433]],\n",
              "  '#**Y',\n",
              "  0.13947544991970062),\n",
              " ([[81, 431], [320, 431], [320, 462], [81, 462]],\n",
              "  '가행점번호: 00964419733',\n",
              "  0.4635032137382804),\n",
              " ([[74, 454], [168, 454], [168, 510], [74, 510]], '승금', 0.5246654867854336),\n",
              " ([[196, 460], [296, 460], [296, 508], [196, 508]],\n",
              "  'ZAO 원',\n",
              "  0.275937102592991),\n",
              " ([[76, 500], [164, 500], [164, 532], [76, 532]], '공급가액', 0.7410433118365379),\n",
              " ([[196, 504], [370, 504], [370, 534], [196, 534]],\n",
              "  '21,816 원 부가세',\n",
              "  0.9540015811360385),\n",
              " ([[404, 508], [496, 508], [496, 536], [404, 536]],\n",
              "  '2,184 원',\n",
              "  0.5212868941722101),\n",
              " ([[74, 528], [158, 528], [158, 558], [74, 558]], '할부개월', 0.48197340965270996),\n",
              " ([[195, 527], [359, 527], [359, 563], [195, 563]],\n",
              "  '일시불 매입사명',\n",
              "  0.9411765756092917),\n",
              " ([[392, 530], [487, 530], [487, 566], [392, 566]],\n",
              "  '하나외환',\n",
              "  0.8894914984703064),\n",
              " ([[70, 549], [159, 549], [159, 586], [70, 586]], '승인번호', 0.9995201826095581),\n",
              " ([[192, 556], [286, 556], [286, 586], [192, 586]],\n",
              "  '05457012',\n",
              "  0.8397383321706755),\n",
              " ([[70, 578], [158, 578], [158, 610], [70, 610]], '승인일시', 0.9950001835823059),\n",
              " ([[190, 580], [411, 580], [411, 617], [190, 617]],\n",
              "  '2017년[2월03일 13:0I',\n",
              "  0.3898059755550023),\n",
              " ([[68, 632], [92, 632], [92, 658], [68, 658]], '알', 0.9807505195596811),\n",
              " ([[128, 634], [154, 634], [154, 660], [128, 660]], '팀', 0.3248552584394009),\n",
              " ([[191, 634], [403, 634], [403, 673], [191, 673]],\n",
              "  '전자전표 가맣점보관',\n",
              "  0.5751371240323019)]"
            ]
          },
          "execution_count": 4,
          "metadata": {},
          "output_type": "execute_result"
        }
      ],
      "source": [
        "result"
      ]
    },
    {
      "cell_type": "code",
      "execution_count": null,
      "metadata": {
        "id": "X6Tm1MUwsJqW",
        "outputId": "56f89361-27f1-46a3-eda0-05aedf1a7be4"
      },
      "outputs": [
        {
          "data": {
            "text/plain": [
              "32"
            ]
          },
          "execution_count": 5,
          "metadata": {},
          "output_type": "execute_result"
        }
      ],
      "source": [
        "len(result)"
      ]
    },
    {
      "cell_type": "code",
      "execution_count": null,
      "metadata": {
        "id": "29tkawuHsJqW",
        "outputId": "fdb34fff-ff57-4d95-fcda-3b1cffde17ef"
      },
      "outputs": [
        {
          "data": {
            "text/plain": [
              "list"
            ]
          },
          "execution_count": 6,
          "metadata": {},
          "output_type": "execute_result"
        }
      ],
      "source": [
        "type(result)"
      ]
    },
    {
      "cell_type": "code",
      "execution_count": null,
      "metadata": {
        "id": "QvekOB1JsJqX",
        "outputId": "20a43b68-892b-43ee-cb62-f7f10ef17ada"
      },
      "outputs": [
        {
          "data": {
            "text/plain": [
              "([[120, 168], [510, 168], [510, 200], [120, 200]],\n",
              " '[신용카드 (승인) 전표]',\n",
              " 0.7136171386662249)"
            ]
          },
          "execution_count": 7,
          "metadata": {},
          "output_type": "execute_result"
        }
      ],
      "source": [
        "result[0]"
      ]
    },
    {
      "cell_type": "code",
      "execution_count": null,
      "metadata": {
        "id": "k1rHLI15sJqX",
        "outputId": "6b4f2529-29d7-4ca2-873c-3169e7c581ca"
      },
      "outputs": [
        {
          "name": "stdout",
          "output_type": "stream",
          "text": [
            "[신용카드 (승인) 전표]\n",
            "고 객 용\n",
            "상\n",
            "호: 왕순대식당\n",
            "사업자번오: 1UI-11-50148\n",
            "대표지 : 신영녀\n",
            "준\n",
            "소: 서울 종로구 수표로2길\n",
            "화:\n",
            "02-2266-2379\n",
            "2017년12월03일 13:01 ND:0048 01-초기사용자\n",
            "카 드명\n",
            "하나   (구외완)\n",
            "카드번호\n",
            "524335****\n",
            "#**Y\n",
            "가행점번호: 00964419733\n",
            "승금\n",
            "ZAO 원\n",
            "공급가액\n",
            "21,816 원 부가세\n",
            "2,184 원\n",
            "할부개월\n",
            "일시불 매입사명\n",
            "하나외환\n",
            "승인번호\n",
            "05457012\n",
            "승인일시\n",
            "2017년[2월03일 13:0I\n",
            "알\n",
            "팀\n",
            "전자전표 가맣점보관\n"
          ]
        }
      ],
      "source": [
        "for item in result:\n",
        "    print(item[1])"
      ]
    },
    {
      "cell_type": "code",
      "execution_count": null,
      "metadata": {
        "id": "pNKL61FksJqX",
        "outputId": "c879770a-e7d9-41c2-893a-b5a2cdb0d5be"
      },
      "outputs": [
        {
          "name": "stdout",
          "output_type": "stream",
          "text": [
            "0 [신용카드 (승인) 전표]\n",
            "1 고 객 용\n",
            "2 상\n",
            "3 호: 왕순대식당\n",
            "4 사업자번오: 1UI-11-50148\n",
            "5 대표지 : 신영녀\n",
            "6 준\n",
            "7 소: 서울 종로구 수표로2길\n",
            "8 화:\n",
            "9 02-2266-2379\n",
            "10 2017년12월03일 13:01 ND:0048 01-초기사용자\n",
            "11 카 드명\n",
            "12 하나   (구외완)\n",
            "13 카드번호\n",
            "14 524335****\n",
            "15 #**Y\n",
            "16 가행점번호: 00964419733\n",
            "17 승금\n",
            "18 ZAO 원\n",
            "19 공급가액\n",
            "20 21,816 원 부가세\n",
            "21 2,184 원\n",
            "22 할부개월\n",
            "23 일시불 매입사명\n",
            "24 하나외환\n",
            "25 승인번호\n",
            "26 05457012\n",
            "27 승인일시\n",
            "28 2017년[2월03일 13:0I\n",
            "29 알\n",
            "30 팀\n",
            "31 전자전표 가맣점보관\n"
          ]
        }
      ],
      "source": [
        "for i, item in enumerate(result):\n",
        "    print(i, item[1])"
      ]
    },
    {
      "cell_type": "code",
      "execution_count": null,
      "metadata": {
        "id": "4nwPESeVsJqX"
      },
      "outputs": [],
      "source": [
        "when = result[10][1]\n",
        "where = result[3][1]\n",
        "money = result[20][1]"
      ]
    },
    {
      "cell_type": "code",
      "execution_count": null,
      "metadata": {
        "id": "F1rzsqqisJqY",
        "outputId": "6b963225-bf21-4e02-9654-1488483dc088"
      },
      "outputs": [
        {
          "name": "stdout",
          "output_type": "stream",
          "text": [
            "날짜: 2017년12월03일 13:01 ND:0048 01-초기사용자\n",
            "장소: 호: 왕순대식당\n",
            "금액: 21,816 원 부가세\n"
          ]
        }
      ],
      "source": [
        "# 언제, 어디서, 얼마를 사용했는지 출력\n",
        "\n",
        "print(\"날짜:\", when)\n",
        "print(\"장소:\", where)\n",
        "print(\"금액:\", money)"
      ]
    },
    {
      "cell_type": "code",
      "execution_count": null,
      "metadata": {
        "id": "YPxydtdysJqY",
        "outputId": "84e6dd44-0582-4d62-fc29-c660cc142f13"
      },
      "outputs": [
        {
          "data": {
            "text/plain": [
              "'2017년12월03일 13:01'"
            ]
          },
          "execution_count": 32,
          "metadata": {},
          "output_type": "execute_result"
        }
      ],
      "source": [
        "when[0:17]"
      ]
    },
    {
      "cell_type": "code",
      "execution_count": null,
      "metadata": {
        "id": "Jx95rFaNsJqY"
      },
      "outputs": [],
      "source": [
        "#https://strftime.org/\n",
        "#https://docs.python.org/ko/3/library/datetime.html#strftime-and-strptime-behavior\n",
        "\n",
        "\n",
        "import datetime\n",
        "\n",
        "# datetime.datetime.strptime('2017년12월03일 13:01','%Y년%m월%d일 %H:%M')\n",
        "dt = datetime.datetime.strptime(when[0:17],'%Y년%m월%d일 %H:%M')\n",
        "day = dt.strftime('%y-%m-%d')\n",
        "tm = dt.strftime('%H:%M')"
      ]
    },
    {
      "cell_type": "code",
      "execution_count": null,
      "metadata": {
        "id": "ac9J7luOsJqY",
        "outputId": "3e9a9491-9fcb-448d-e202-3dcf4ce7f193"
      },
      "outputs": [
        {
          "name": "stdout",
          "output_type": "stream",
          "text": [
            "날짜: 17-12-03\n",
            "시간: 13:01\n",
            "장소: 왕순대식당\n",
            "금액: 21816\n"
          ]
        }
      ],
      "source": [
        "print(\"날짜:\", day)\n",
        "print(\"시간:\", tm)\n",
        "print(\"장소:\", where[3:])\n",
        "print(\"금액:\", money[:6].replace(',',''))"
      ]
    },
    {
      "cell_type": "code",
      "execution_count": null,
      "metadata": {
        "id": "klfr1CFEsJqZ"
      },
      "outputs": [],
      "source": []
    }
  ],
  "metadata": {
    "colab": {
      "provenance": []
    },
    "kernelspec": {
      "display_name": "Python 3.10.1 64-bit",
      "language": "python",
      "name": "python3"
    },
    "language_info": {
      "codemirror_mode": {
        "name": "ipython",
        "version": 3
      },
      "file_extension": ".py",
      "mimetype": "text/x-python",
      "name": "python",
      "nbconvert_exporter": "python",
      "pygments_lexer": "ipython3",
      "version": "3.10.1"
    },
    "orig_nbformat": 4,
    "vscode": {
      "interpreter": {
        "hash": "26de051ba29f2982a8de78e945f0abaf191376122a1563185a90213a26c5da77"
      }
    }
  },
  "nbformat": 4,
  "nbformat_minor": 0
}
