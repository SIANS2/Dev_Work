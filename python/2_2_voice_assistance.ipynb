{
  "cells": [
    {
      "cell_type": "markdown",
      "metadata": {
        "id": "lE_ZpTZ_sG40"
      },
      "source": [
        "## Voice Assistance 구현하기\n",
        "\n",
        "* 음성인식(질문) -> 문자변환(질문) -> 질문 판별 -> 문자생성(답변) -> 음성으로 답변\n",
        "* STT -> 질문 판별 -> TTS"
      ]
    },
    {
      "cell_type": "markdown",
      "metadata": {
        "id": "_BT-veKssG43"
      },
      "source": [
        "### STT(Speech To Text) 구현"
      ]
    },
    {
      "cell_type": "code",
      "execution_count": 5,
      "metadata": {
        "id": "SSTvcnUZsG44",
        "outputId": "4ef79391-4f6a-4b5e-b097-5c4f585a8dfd"
      },
      "outputs": [
        {
          "name": "stdout",
          "output_type": "stream",
          "text": [
            "Defaulting to user installation because normal site-packages is not writeable\n",
            "Requirement already satisfied: SpeechRecognition in c:\\users\\sian\\appdata\\roaming\\python\\python39\\site-packages (3.8.1)\n"
          ]
        }
      ],
      "source": [
        "! pip install SpeechRecognition"
      ]
    },
    {
      "cell_type": "code",
      "execution_count": 2,
      "metadata": {
        "id": "3PQ4EItEsG45",
        "outputId": "71806031-e3de-4b1c-eaf2-3b65294f9f74"
      },
      "outputs": [
        {
          "name": "stdout",
          "output_type": "stream",
          "text": [
            "Defaulting to user installation because normal site-packages is not writeableNote: you may need to restart the kernel to use updated packages.\n"
          ]
        },
        {
          "name": "stderr",
          "output_type": "stream",
          "text": [
            "WARNING: You are using pip version 21.2.4; however, version 22.2.2 is available.\n",
            "You should consider upgrading via the 'c:\\Program Files\\Python310\\python.exe -m pip install --upgrade pip' command.\n"
          ]
        },
        {
          "name": "stdout",
          "output_type": "stream",
          "text": [
            "\n",
            "Collecting pyaudio\n",
            "  Downloading PyAudio-0.2.12-cp310-cp310-win_amd64.whl (163 kB)\n",
            "Installing collected packages: pyaudio\n",
            "Successfully installed pyaudio-0.2.12\n"
          ]
        }
      ],
      "source": [
        "%pip install pyaudio"
      ]
    },
    {
      "cell_type": "code",
      "execution_count": 6,
      "metadata": {
        "id": "9DZMy0xbsG46"
      },
      "outputs": [
        {
          "ename": "ModuleNotFoundError",
          "evalue": "No module named 'speech_recognition'",
          "output_type": "error",
          "traceback": [
            "\u001b[1;31m---------------------------------------------------------------------------\u001b[0m",
            "\u001b[1;31mModuleNotFoundError\u001b[0m                       Traceback (most recent call last)",
            "Cell \u001b[1;32mIn [6], line 1\u001b[0m\n\u001b[1;32m----> 1\u001b[0m \u001b[38;5;28;01mimport\u001b[39;00m \u001b[38;5;21;01mspeech_recognition\u001b[39;00m \u001b[38;5;28;01mas\u001b[39;00m \u001b[38;5;21;01msr\u001b[39;00m\n",
            "\u001b[1;31mModuleNotFoundError\u001b[0m: No module named 'speech_recognition'"
          ]
        }
      ],
      "source": [
        "import speech_recognition as sr"
      ]
    },
    {
      "cell_type": "code",
      "execution_count": null,
      "metadata": {
        "id": "EyaYuC1CsG46",
        "outputId": "a47b35ec-deee-4368-ea54-66f83ed2b95b"
      },
      "outputs": [
        {
          "ename": "UnknownValueError",
          "evalue": "",
          "output_type": "error",
          "traceback": [
            "\u001b[1;31m---------------------------------------------------------------------------\u001b[0m",
            "\u001b[1;31mUnknownValueError\u001b[0m                         Traceback (most recent call last)",
            "Cell \u001b[1;32mIn [6], line 5\u001b[0m\n\u001b[0;32m      3\u001b[0m \u001b[38;5;28;01mwith\u001b[39;00m sr\u001b[38;5;241m.\u001b[39mMicrophone() \u001b[38;5;28;01mas\u001b[39;00m source:\n\u001b[0;32m      4\u001b[0m     said \u001b[38;5;241m=\u001b[39m r\u001b[38;5;241m.\u001b[39mlisten(source) \u001b[38;5;66;03m# 마이크로 음성 받음\u001b[39;00m\n\u001b[1;32m----> 5\u001b[0m     q \u001b[38;5;241m=\u001b[39m \u001b[43mr\u001b[49m\u001b[38;5;241;43m.\u001b[39;49m\u001b[43mrecognize_google\u001b[49m\u001b[43m(\u001b[49m\u001b[43msaid\u001b[49m\u001b[43m,\u001b[49m\u001b[43mlanguage\u001b[49m\u001b[38;5;241;43m=\u001b[39;49m\u001b[38;5;124;43m'\u001b[39;49m\u001b[38;5;124;43mko\u001b[39;49m\u001b[38;5;124;43m'\u001b[39;49m\u001b[43m)\u001b[49m \u001b[38;5;66;03m#구글 한국어 인식하여 문자로 반환\u001b[39;00m\n\u001b[0;32m      6\u001b[0m     \u001b[38;5;28mprint\u001b[39m(q)\n",
            "File \u001b[1;32mc:\\Users\\miran\\AppData\\Local\\Programs\\Python\\Python39\\lib\\site-packages\\speech_recognition\\__init__.py:858\u001b[0m, in \u001b[0;36mRecognizer.recognize_google\u001b[1;34m(self, audio_data, key, language, show_all)\u001b[0m\n\u001b[0;32m    856\u001b[0m \u001b[39m# return results\u001b[39;00m\n\u001b[0;32m    857\u001b[0m \u001b[39mif\u001b[39;00m show_all: \u001b[39mreturn\u001b[39;00m actual_result\n\u001b[1;32m--> 858\u001b[0m \u001b[39mif\u001b[39;00m \u001b[39mnot\u001b[39;00m \u001b[39misinstance\u001b[39m(actual_result, \u001b[39mdict\u001b[39m) \u001b[39mor\u001b[39;00m \u001b[39mlen\u001b[39m(actual_result\u001b[39m.\u001b[39mget(\u001b[39m\"\u001b[39m\u001b[39malternative\u001b[39m\u001b[39m\"\u001b[39m, [])) \u001b[39m==\u001b[39m \u001b[39m0\u001b[39m: \u001b[39mraise\u001b[39;00m UnknownValueError()\n\u001b[0;32m    860\u001b[0m \u001b[39mif\u001b[39;00m \u001b[39m\"\u001b[39m\u001b[39mconfidence\u001b[39m\u001b[39m\"\u001b[39m \u001b[39min\u001b[39;00m actual_result[\u001b[39m\"\u001b[39m\u001b[39malternative\u001b[39m\u001b[39m\"\u001b[39m]:\n\u001b[0;32m    861\u001b[0m     \u001b[39m# return alternative with highest confidence score\u001b[39;00m\n\u001b[0;32m    862\u001b[0m     best_hypothesis \u001b[39m=\u001b[39m \u001b[39mmax\u001b[39m(actual_result[\u001b[39m\"\u001b[39m\u001b[39malternative\u001b[39m\u001b[39m\"\u001b[39m], key\u001b[39m=\u001b[39m\u001b[39mlambda\u001b[39;00m alternative: alternative[\u001b[39m\"\u001b[39m\u001b[39mconfidence\u001b[39m\u001b[39m\"\u001b[39m])\n",
            "\u001b[1;31mUnknownValueError\u001b[0m: "
          ]
        }
      ],
      "source": [
        "r = sr.Recognizer()\n",
        "\n",
        "with sr.Microphone() as source:\n",
        "    said = r.listen(source) # 마이크로 음성 받음\n",
        "    q = r.recognize_google(said,language='ko') #구글 한국어 인식하여 문자로 반환\n",
        "    print(q) #문자 출력"
      ]
    },
    {
      "cell_type": "code",
      "execution_count": null,
      "metadata": {
        "id": "dSltXUpRsG47",
        "outputId": "61037010-6452-466f-ddd5-772a32f847bd"
      },
      "outputs": [
        {
          "name": "stdout",
          "output_type": "stream",
          "text": [
            "에베베베베\n"
          ]
        }
      ],
      "source": [
        "r = sr.Recognizer()\n",
        "\n",
        "with sr.Microphone() as source:\n",
        "    r.pause_threshold = 0.8\n",
        "    said = r.listen(source) # 마이크로 음성 받음\n",
        "\n",
        "    try:\n",
        "        q = r.recognize_google(said,language='ko') #구글 한국어 인식하여 문자로 반환\n",
        "        print(q) #문자 출력\n",
        "\n",
        "    except sr.UnknownValueError:\n",
        "        print('무슨 말인지 이해를 잘 못 했어요.')\n",
        "    except:\n",
        "        print('인식안됨')"
      ]
    },
    {
      "cell_type": "code",
      "execution_count": null,
      "metadata": {
        "id": "LsmTzQ6nsG47"
      },
      "outputs": [],
      "source": [
        "#함수로 만들기\n",
        "def transform():\n",
        "    r = sr.Recognizer()\n",
        "    with sr.Microphone() as source:\n",
        "        r.pause_threshold = 0.8\n",
        "        said = r.listen(source)\n",
        "        try:\n",
        "            q = r.recognize_google(said,language='ko')\n",
        "            return q\n",
        "        except sr.UnknownValueError:\n",
        "            return '무슨 말인지 이해를 잘 못 했어요.'\n",
        "        except:\n",
        "            return '인식안됨'"
      ]
    },
    {
      "cell_type": "markdown",
      "metadata": {
        "id": "q4MikQp8sG48"
      },
      "source": [
        "## TTS(Text to Speech)구현"
      ]
    },
    {
      "cell_type": "code",
      "execution_count": null,
      "metadata": {
        "id": "KevWsmPCsG49",
        "outputId": "55114836-75ce-44d9-c325-984ce8b473ff"
      },
      "outputs": [
        {
          "name": "stdout",
          "output_type": "stream",
          "text": [
            "Requirement already satisfied: pyttsx3 in c:\\users\\miran\\appdata\\local\\programs\\python\\python39\\lib\\site-packages (2.90)\n",
            "Requirement already satisfied: comtypes in c:\\users\\miran\\appdata\\local\\programs\\python\\python39\\lib\\site-packages (from pyttsx3) (1.1.14)\n",
            "Requirement already satisfied: pypiwin32 in c:\\users\\miran\\appdata\\local\\programs\\python\\python39\\lib\\site-packages (from pyttsx3) (223)\n",
            "Requirement already satisfied: pywin32 in c:\\users\\miran\\appdata\\roaming\\python\\python39\\site-packages (from pyttsx3) (304)\n",
            "Note: you may need to restart the kernel to use updated packages.\n"
          ]
        }
      ],
      "source": [
        "%pip install pyttsx3"
      ]
    },
    {
      "cell_type": "code",
      "execution_count": null,
      "metadata": {
        "id": "2mKPjMynsG49"
      },
      "outputs": [],
      "source": [
        "import pyttsx3"
      ]
    },
    {
      "cell_type": "code",
      "execution_count": null,
      "metadata": {
        "id": "Bwgk8CA8sG49"
      },
      "outputs": [],
      "source": [
        "engine = pyttsx3.init()\n",
        "engine.say('안녕하세요')\n",
        "engine.runAndWait()"
      ]
    },
    {
      "cell_type": "code",
      "execution_count": null,
      "metadata": {
        "id": "WLNU1XqJsG4-"
      },
      "outputs": [],
      "source": [
        "engine.say('만나서 반갑습니다.')\n",
        "engine.runAndWait()"
      ]
    },
    {
      "cell_type": "code",
      "execution_count": null,
      "metadata": {
        "id": "xxtQ1xSjsG4-"
      },
      "outputs": [],
      "source": [
        "engine.say('메롱메롱 어쩔티비 저쩔티비~~')\n",
        "engine.runAndWait()"
      ]
    },
    {
      "cell_type": "markdown",
      "metadata": {
        "id": "H_QgFF_wsG4-"
      },
      "source": [
        "* 목소리 주인공은?\n",
        "윈도우: 설정>시간및 언어> 음성> 음성 패키지\n"
      ]
    },
    {
      "cell_type": "code",
      "execution_count": null,
      "metadata": {
        "id": "XdrP_0qJsG4-",
        "outputId": "db38ff00-0b3e-49a0-b6dc-b0191a43e5b9"
      },
      "outputs": [
        {
          "name": "stdout",
          "output_type": "stream",
          "text": [
            "<Voice id=HKEY_LOCAL_MACHINE\\SOFTWARE\\Microsoft\\Speech\\Voices\\Tokens\\TTS_MS_KO-KR_HEAMI_11.0\n",
            "          name=Microsoft Heami Desktop - Korean\n",
            "          languages=[]\n",
            "          gender=None\n",
            "          age=None>\n",
            "<Voice id=HKEY_LOCAL_MACHINE\\SOFTWARE\\Microsoft\\Speech\\Voices\\Tokens\\TTS_MS_EN-US_ZIRA_11.0\n",
            "          name=Microsoft Zira Desktop - English (United States)\n",
            "          languages=[]\n",
            "          gender=None\n",
            "          age=None>\n"
          ]
        }
      ],
      "source": [
        "for voice in engine.getProperty('voices'):\n",
        "    print(voice)"
      ]
    },
    {
      "cell_type": "code",
      "execution_count": null,
      "metadata": {
        "id": "8QgUsB5EsG4_"
      },
      "outputs": [],
      "source": [
        "engine = pyttsx3.init()\n",
        "\n",
        "#영어 사용\n",
        "engine.setProperty('voice','HKEY_LOCAL_MACHINE\\SOFTWARE\\Microsoft\\Speech\\Voices\\Tokens\\TTS_MS_EN-US_ZIRA_11.0')\n",
        "engine.setProperty('rate',100) #빠르기\n",
        "engine.say('How are you?')\n",
        "engine.runAndWait()"
      ]
    },
    {
      "cell_type": "code",
      "execution_count": null,
      "metadata": {
        "id": "_knl5OJlsG4_"
      },
      "outputs": [],
      "source": [
        "engine = pyttsx3.init()\n",
        "\n",
        "#한국음성으로 영어 말하기\n",
        "engine.setProperty('voice','HKEY_LOCAL_MACHINE\\SOFTWARE\\Microsoft\\Speech\\Voices\\Tokens\\TTS_MS_KO-KR_HEAMI_11.0') \n",
        "engine.say('How are you?')\n",
        "engine.runAndWait()"
      ]
    },
    {
      "cell_type": "code",
      "execution_count": null,
      "metadata": {
        "id": "hUmln9ojsG4_"
      },
      "outputs": [],
      "source": [
        "#함수로 만들기\n",
        "def speaking(message):\n",
        "    engine = pyttsx3.init()\n",
        "    engine.setProperty('voice','HKEY_LOCAL_MACHINE\\SOFTWARE\\Microsoft\\Speech\\Voices\\Tokens\\TTS_MS_KO-KR_HEAMI_11.0') \n",
        "    engine.setProperty('rate',150) #빠르기\n",
        "    engine.say(message)\n",
        "    engine.runAndWait()    "
      ]
    },
    {
      "cell_type": "code",
      "execution_count": null,
      "metadata": {
        "id": "-WZaA65WsG5A"
      },
      "outputs": [],
      "source": [
        "speaking('이제 TTS가 준비가 되었습니다. 계속해서 Voice Assistance를 만들어 보겠습니다.')"
      ]
    },
    {
      "cell_type": "markdown",
      "metadata": {
        "id": "p6_OHghisG5A"
      },
      "source": [
        "## 날짜 시간 말하기"
      ]
    },
    {
      "cell_type": "markdown",
      "metadata": {
        "id": "mvVvoEYZsG5A"
      },
      "source": [
        "### 날짜 말하기"
      ]
    },
    {
      "cell_type": "code",
      "execution_count": null,
      "metadata": {
        "id": "a6R-J45XsG5A"
      },
      "outputs": [],
      "source": [
        "import datetime"
      ]
    },
    {
      "cell_type": "code",
      "execution_count": null,
      "metadata": {
        "id": "SD3VhC_gsG5B",
        "outputId": "a7e4f531-00b6-45ab-edc6-ed855f07eaae"
      },
      "outputs": [
        {
          "data": {
            "text/plain": [
              "datetime.date(2022, 9, 12)"
            ]
          },
          "execution_count": 22,
          "metadata": {},
          "output_type": "execute_result"
        }
      ],
      "source": [
        "day = datetime.date.today()\n",
        "day"
      ]
    },
    {
      "cell_type": "code",
      "execution_count": null,
      "metadata": {
        "id": "LrBF-PEisG5B",
        "outputId": "e29a087a-eae5-47ba-93eb-36e16bd191c3"
      },
      "outputs": [
        {
          "data": {
            "text/plain": [
              "0"
            ]
          },
          "execution_count": 24,
          "metadata": {},
          "output_type": "execute_result"
        }
      ],
      "source": [
        "day.weekday()"
      ]
    },
    {
      "cell_type": "code",
      "execution_count": null,
      "metadata": {
        "id": "BpoZsC9WsG5B",
        "outputId": "c85062aa-0ab7-438b-e8c4-f42f08a399a2"
      },
      "outputs": [
        {
          "name": "stdout",
          "output_type": "stream",
          "text": [
            "2022-09-12 월요일\n"
          ]
        }
      ],
      "source": [
        "day = datetime.date.today()\n",
        "weekday = day.weekday()\n",
        "week_mapping={\n",
        "    0:'월요일',\n",
        "    1:'화요일',\n",
        "    2:'수요일',\n",
        "    3:'목요일',\n",
        "    4:'금요일',\n",
        "    5:'토요일',\n",
        "    6:'일요일',\n",
        "}\n",
        "\n",
        "print(day,week_mapping[weekday])"
      ]
    },
    {
      "cell_type": "code",
      "execution_count": null,
      "metadata": {
        "id": "2LsqwKgPsG5C"
      },
      "outputs": [],
      "source": [
        "speaking(week_mapping[weekday])"
      ]
    },
    {
      "cell_type": "code",
      "execution_count": null,
      "metadata": {
        "id": "69evodJqsG5C"
      },
      "outputs": [],
      "source": [
        "def quary_day():\n",
        "    day = datetime.date.today()\n",
        "    weekday = day.weekday()\n",
        "    week_mapping={\n",
        "        0:'월요일',\n",
        "        1:'화요일',\n",
        "        2:'수요일',\n",
        "        3:'목요일',\n",
        "        4:'금요일',\n",
        "        5:'토요일',\n",
        "        6:'일요일',\n",
        "    }\n",
        "\n",
        "    speaking(f\"오늘은 {week_mapping[weekday]} 입니다. {week_mapping[weekday]}에도 수업받으시느라 고생이 많습니다.\")"
      ]
    },
    {
      "cell_type": "code",
      "execution_count": null,
      "metadata": {
        "id": "HEqlzPGosG5C"
      },
      "outputs": [],
      "source": [
        "quary_day()"
      ]
    },
    {
      "cell_type": "markdown",
      "metadata": {
        "id": "LuGH4bTjsG5C"
      },
      "source": [
        "### 시간 말하기"
      ]
    },
    {
      "cell_type": "code",
      "execution_count": null,
      "metadata": {
        "id": "WVEmHkz9sG5D",
        "outputId": "d572c5a9-5ba0-48f3-ff20-e61be66aa224"
      },
      "outputs": [
        {
          "data": {
            "text/plain": [
              "('11:08:56', str)"
            ]
          },
          "execution_count": 33,
          "metadata": {},
          "output_type": "execute_result"
        }
      ],
      "source": [
        "#https://strftime.org/ 참고\n",
        "time = datetime.datetime.now().strftime(\"%I:%M:%S\")\n",
        "time,type(time)"
      ]
    },
    {
      "cell_type": "code",
      "execution_count": null,
      "metadata": {
        "id": "7ZNGZKpIsG5D"
      },
      "outputs": [],
      "source": [
        "speaking(time) # 반말이네~"
      ]
    },
    {
      "cell_type": "code",
      "execution_count": null,
      "metadata": {
        "id": "9KhtkpPpsG5D",
        "outputId": "a4b2c349-e998-40ba-9cdf-d33f12606692"
      },
      "outputs": [
        {
          "data": {
            "text/plain": [
              "('11', '08')"
            ]
          },
          "execution_count": 38,
          "metadata": {},
          "output_type": "execute_result"
        }
      ],
      "source": [
        "time[:2],time[3:5]"
      ]
    },
    {
      "cell_type": "code",
      "execution_count": null,
      "metadata": {
        "id": "c7oVvtRHsG5E"
      },
      "outputs": [],
      "source": [
        "speaking(f'현재는 {time[:2]}시 {time[3:5]}분입니다.')"
      ]
    },
    {
      "cell_type": "code",
      "execution_count": null,
      "metadata": {
        "id": "CYVkYPlxsG5E"
      },
      "outputs": [],
      "source": [
        "def query_time():\n",
        "    time = datetime.datetime.now().strftime(\"%I:%M:%S\")\n",
        "    speaking(f'현재는 {time[:2]}시 {time[3:5]}분입니다.') "
      ]
    },
    {
      "cell_type": "code",
      "execution_count": null,
      "metadata": {
        "id": "Jj8UgXO1sG5E"
      },
      "outputs": [],
      "source": [
        "query_time()"
      ]
    },
    {
      "cell_type": "code",
      "execution_count": null,
      "metadata": {
        "id": "vcfc5FjIsG5E"
      },
      "outputs": [],
      "source": [
        "def whatsup():\n",
        "    speaking(\"\"\"안녕하세요!\n",
        "    저는 당신의 개인비서입니다.\n",
        "    무엇을 도와 드릴까요?\n",
        "    \"\"\")"
      ]
    },
    {
      "cell_type": "code",
      "execution_count": null,
      "metadata": {
        "id": "DYi59BQfsG5E"
      },
      "outputs": [],
      "source": [
        "whatsup()"
      ]
    },
    {
      "cell_type": "markdown",
      "metadata": {
        "id": "YwDIr3fisG5E"
      },
      "source": [
        "## Voice Assistance 만들기"
      ]
    },
    {
      "cell_type": "code",
      "execution_count": null,
      "metadata": {
        "id": "8WqHG2risG5E"
      },
      "outputs": [],
      "source": [
        "while(True):\n",
        "    q = transform()\n",
        "    \n",
        "    if \"무슨 요일\" in q:\n",
        "        quary_day()\n",
        "        continue\n",
        "    elif \"몇 시\" in q:\n",
        "        query_time()\n",
        "        continue\n",
        "\n",
        "    elif \"이제 그만\" in q:\n",
        "        speaking('아쉽지만 다음에 또 뵙겠습니다.')\n",
        "        break"
      ]
    },
    {
      "cell_type": "markdown",
      "metadata": {
        "id": "fWKHGV5psG5F"
      },
      "source": [
        "----"
      ]
    },
    {
      "cell_type": "markdown",
      "metadata": {
        "id": "w3E1Ab-_sG5F"
      },
      "source": [
        "## 발전\n",
        "\n",
        "* 유튜브 켜기\n",
        "* 네이버 켜기"
      ]
    },
    {
      "cell_type": "code",
      "execution_count": null,
      "metadata": {
        "id": "J3QoBxgLsG5F"
      },
      "outputs": [],
      "source": [
        "import webbrowser"
      ]
    },
    {
      "cell_type": "code",
      "execution_count": null,
      "metadata": {
        "id": "vl8Ln_dnsG5F",
        "outputId": "93563560-67e4-4f69-d47e-de684f76b5d5"
      },
      "outputs": [
        {
          "data": {
            "text/plain": [
              "True"
            ]
          },
          "execution_count": 47,
          "metadata": {},
          "output_type": "execute_result"
        }
      ],
      "source": [
        "webbrowser.open('https://www.youtube.com')"
      ]
    },
    {
      "cell_type": "code",
      "execution_count": null,
      "metadata": {
        "id": "dGuuelObsG5F"
      },
      "outputs": [],
      "source": [
        "while(True):\n",
        "    q = transform()\n",
        "    \n",
        "    if \"무슨 요일\" in q:\n",
        "        quary_day()\n",
        "        continue\n",
        "    elif \"몇 시\" in q:\n",
        "        query_time()\n",
        "        continue\n",
        "    elif \"유튜브 시작\" in q:\n",
        "        speaking('유튜브를 시작하겠습니다. 잠시만 기다려 주세요!')\n",
        "        webbrowser.open('https://www.youtube.com')\n",
        "        continue\n",
        "    elif \"네이버 시작\" in q:\n",
        "        speaking('네이버를 시작하겠습니다. 잠시만 기다려 주세요!')\n",
        "        webbrowser.open('https://www.naver.com')\n",
        "        continue        \n",
        "\n",
        "    elif \"이제 그만\" in q:\n",
        "        speaking('아쉽지만 다음에 또 뵙겠습니다.')\n",
        "        break"
      ]
    },
    {
      "cell_type": "markdown",
      "metadata": {
        "id": "_4AKxARwsG5F"
      },
      "source": [
        "---"
      ]
    },
    {
      "cell_type": "code",
      "execution_count": null,
      "metadata": {
        "id": "103b5AFGsG5F",
        "outputId": "6a52f09a-bcf2-4460-8293-debaf8e825a1"
      },
      "outputs": [
        {
          "name": "stdout",
          "output_type": "stream",
          "text": [
            "Collecting pyautogui\n",
            "  Using cached PyAutoGUI-0.9.53.tar.gz (59 kB)\n",
            "  Preparing metadata (setup.py): started\n",
            "  Preparing metadata (setup.py): finished with status 'done'\n",
            "Collecting pymsgbox\n",
            "  Using cached PyMsgBox-1.0.9.tar.gz (18 kB)\n",
            "  Installing build dependencies: started\n",
            "  Installing build dependencies: finished with status 'done'\n",
            "  Getting requirements to build wheel: started\n",
            "  Getting requirements to build wheel: finished with status 'done'\n",
            "  Preparing metadata (pyproject.toml): started\n",
            "  Preparing metadata (pyproject.toml): finished with status 'done'\n",
            "Collecting PyTweening>=1.0.1\n",
            "  Using cached pytweening-1.0.4.tar.gz (14 kB)\n",
            "  Preparing metadata (setup.py): started\n",
            "  Preparing metadata (setup.py): finished with status 'done'\n",
            "Collecting pyscreeze>=0.1.21\n",
            "  Using cached PyScreeze-0.1.28.tar.gz (25 kB)\n",
            "  Installing build dependencies: started\n",
            "  Installing build dependencies: finished with status 'done'\n",
            "  Getting requirements to build wheel: started\n",
            "  Getting requirements to build wheel: finished with status 'done'\n",
            "  Preparing metadata (pyproject.toml): started\n",
            "  Preparing metadata (pyproject.toml): finished with status 'done'\n",
            "Collecting pygetwindow>=0.0.5\n",
            "  Using cached PyGetWindow-0.0.9.tar.gz (9.7 kB)\n",
            "  Preparing metadata (setup.py): started\n",
            "  Preparing metadata (setup.py): finished with status 'done'\n",
            "Collecting mouseinfo\n",
            "  Using cached MouseInfo-0.1.3.tar.gz (10 kB)\n",
            "  Preparing metadata (setup.py): started\n",
            "  Preparing metadata (setup.py): finished with status 'done'\n",
            "Collecting pyrect\n",
            "  Using cached PyRect-0.2.0.tar.gz (17 kB)\n",
            "  Preparing metadata (setup.py): started\n",
            "  Preparing metadata (setup.py): finished with status 'done'\n",
            "Collecting pyperclip\n",
            "  Using cached pyperclip-1.8.2.tar.gz (20 kB)\n",
            "  Preparing metadata (setup.py): started\n",
            "  Preparing metadata (setup.py): finished with status 'done'\n",
            "Building wheels for collected packages: pyautogui, pygetwindow, pyscreeze, PyTweening, mouseinfo, pymsgbox, pyperclip, pyrect\n",
            "  Building wheel for pyautogui (setup.py): started\n",
            "  Building wheel for pyautogui (setup.py): finished with status 'done'\n",
            "  Created wheel for pyautogui: filename=PyAutoGUI-0.9.53-py3-none-any.whl size=36614 sha256=c6cc5b38ab152c19f68ad3b3b41faa4c349b117f1d3631f749c0b978fad7ad15\n",
            "  Stored in directory: c:\\users\\miran\\appdata\\local\\pip\\cache\\wheels\\d8\\97\\e4\\d2edca92a87d3b5fbfb527264750a17b4ba297b9a7cab6e67f\n",
            "  Building wheel for pygetwindow (setup.py): started\n",
            "  Building wheel for pygetwindow (setup.py): finished with status 'done'\n",
            "  Created wheel for pygetwindow: filename=PyGetWindow-0.0.9-py3-none-any.whl size=11081 sha256=186ff6858a9a9fdace1d3c3b47c5c66ac3b8a8b477b64913afc071b452a83a10\n",
            "  Stored in directory: c:\\users\\miran\\appdata\\local\\pip\\cache\\wheels\\44\\ab\\20\\423c3a444793767e4e41f8377bc902f77bee212e68dcce85a5\n",
            "  Building wheel for pyscreeze (pyproject.toml): started\n",
            "  Building wheel for pyscreeze (pyproject.toml): finished with status 'done'\n",
            "  Created wheel for pyscreeze: filename=PyScreeze-0.1.28-py3-none-any.whl size=13009 sha256=f9fb932ee266129d6e2b5f6f30603401a158a553c6d5e819ea996a88044ca28e\n",
            "  Stored in directory: c:\\users\\miran\\appdata\\local\\pip\\cache\\wheels\\a2\\5b\\86\\99f1d8fac5d92de0ccb3f0d4ad15e3f4278baf75a9b0f20b93\n",
            "  Building wheel for PyTweening (setup.py): started\n",
            "  Building wheel for PyTweening (setup.py): finished with status 'done'\n",
            "  Created wheel for PyTweening: filename=pytweening-1.0.4-py3-none-any.whl size=5854 sha256=3739bc220634cfcc8e31ca3f01e1990ed240292b577ac9a616c38f96c377fb56\n",
            "  Stored in directory: c:\\users\\miran\\appdata\\local\\pip\\cache\\wheels\\a4\\5d\\d2\\ba4c8f82163233ffaadcf383c1e34d7d92635d357d13e7b78d\n",
            "  Building wheel for mouseinfo (setup.py): started\n",
            "  Building wheel for mouseinfo (setup.py): finished with status 'done'\n",
            "  Created wheel for mouseinfo: filename=MouseInfo-0.1.3-py3-none-any.whl size=10906 sha256=aa5ffda1c1f1c4112e513dda88bc1b2da6d45a988cb581c10e7a1e8868f7d0ae\n",
            "  Stored in directory: c:\\users\\miran\\appdata\\local\\pip\\cache\\wheels\\61\\73\\b9\\6fb1131ab36e650206e3aa0ad7a68907b41b32ac2d4f75f543\n",
            "  Building wheel for pymsgbox (pyproject.toml): started\n",
            "  Building wheel for pymsgbox (pyproject.toml): finished with status 'done'\n",
            "  Created wheel for pymsgbox: filename=PyMsgBox-1.0.9-py3-none-any.whl size=7406 sha256=6174b50d2b424e3bdf20804d4d03e66f00306d0805526bd16ee26da5bb0155d0\n",
            "  Stored in directory: c:\\users\\miran\\appdata\\local\\pip\\cache\\wheels\\7f\\13\\8c\\584c519464297d9637f9cd29fd1dcdf55e2a2cab225c76a2db\n",
            "  Building wheel for pyperclip (setup.py): started\n",
            "  Building wheel for pyperclip (setup.py): finished with status 'done'\n",
            "  Created wheel for pyperclip: filename=pyperclip-1.8.2-py3-none-any.whl size=11137 sha256=86e6a64affdb18e750a824acb86b9c8626a69ca56dcf46973ed99e26c2dda314\n",
            "  Stored in directory: c:\\users\\miran\\appdata\\local\\pip\\cache\\wheels\\0c\\09\\9e\\49e21a6840ef7955b06d47394afef0058f0378c0914e48b8b8\n",
            "  Building wheel for pyrect (setup.py): started\n",
            "  Building wheel for pyrect (setup.py): finished with status 'done'\n",
            "  Created wheel for pyrect: filename=PyRect-0.2.0-py2.py3-none-any.whl size=11196 sha256=25faa8e2a78795ef0703038eee2a983c7835259f714acc146a55333340d1dcc8\n",
            "  Stored in directory: c:\\users\\miran\\appdata\\local\\pip\\cache\\wheels\\25\\80\\fa\\27bb4a1c2e21f64ec71390489d52e57b7cc8afbe79bd595c5e\n",
            "Successfully built pyautogui pygetwindow pyscreeze PyTweening mouseinfo pymsgbox pyperclip pyrect\n",
            "Installing collected packages: PyTweening, pyscreeze, pyrect, pyperclip, pymsgbox, pygetwindow, mouseinfo, pyautogui\n",
            "Successfully installed PyTweening-1.0.4 mouseinfo-0.1.3 pyautogui-0.9.53 pygetwindow-0.0.9 pymsgbox-1.0.9 pyperclip-1.8.2 pyrect-0.2.0 pyscreeze-0.1.28\n",
            "Note: you may need to restart the kernel to use updated packages.\n"
          ]
        }
      ],
      "source": [
        "%pip install pyautogui"
      ]
    },
    {
      "cell_type": "code",
      "execution_count": null,
      "metadata": {
        "id": "UUvTcZ2ZsG5G"
      },
      "outputs": [],
      "source": [
        "import pyautogui"
      ]
    },
    {
      "cell_type": "code",
      "execution_count": null,
      "metadata": {
        "id": "8KB7YAsjsG5G",
        "outputId": "3b1b797a-cc8d-4249-d895-db06f7f85da8"
      },
      "outputs": [
        {
          "name": "stdout",
          "output_type": "stream",
          "text": [
            "1920 1080\n"
          ]
        }
      ],
      "source": [
        "#화면 사이즈\n",
        "screen_width, screen_height = pyautogui.size()\n",
        "print(screen_width,screen_height)"
      ]
    },
    {
      "cell_type": "code",
      "execution_count": null,
      "metadata": {
        "id": "SQHlH02csG5G"
      },
      "outputs": [],
      "source": [
        "pyautogui.moveTo(700,1000,3)\n",
        "pyautogui.click(button='left')"
      ]
    },
    {
      "cell_type": "code",
      "execution_count": null,
      "metadata": {
        "id": "dIvZJ6SosG5G"
      },
      "outputs": [],
      "source": [
        "while(True):\n",
        "    q = transform()\n",
        "    \n",
        "    if \"무슨 요일\" in q:\n",
        "        quary_day()\n",
        "        continue\n",
        "    elif \"몇 시\" in q:\n",
        "        query_time()\n",
        "        continue\n",
        "    elif \"유튜브 시작\" in q:\n",
        "        speaking('유튜브를 시작하겠습니다. 잠시만 기다려 주세요!')\n",
        "        webbrowser.open('https://www.youtube.com')\n",
        "        continue\n",
        "    elif \"네이버 시작\" in q:\n",
        "        speaking('네이버를 시작하겠습니다. 잠시만 기다려 주세요!')\n",
        "        webbrowser.open('https://www.naver.com')\n",
        "        continue        \n",
        "    elif \"이동\" in q:\n",
        "        pyautogui.moveTo(700,1000,3)\n",
        "        pyautogui.click(button='left')\n",
        "        continue            \n",
        "    elif \"이제 그만\" in q:\n",
        "        speaking('아쉽지만 다음에 또 뵙겠습니다.')\n",
        "        break"
      ]
    },
    {
      "cell_type": "code",
      "execution_count": null,
      "metadata": {
        "id": "zNBbpAoCsG5G"
      },
      "outputs": [],
      "source": []
    }
  ],
  "metadata": {
    "colab": {
      "provenance": []
    },
    "kernelspec": {
      "display_name": "Python 3.10.1 64-bit",
      "language": "python",
      "name": "python3"
    },
    "language_info": {
      "codemirror_mode": {
        "name": "ipython",
        "version": 3
      },
      "file_extension": ".py",
      "mimetype": "text/x-python",
      "name": "python",
      "nbconvert_exporter": "python",
      "pygments_lexer": "ipython3",
      "version": "3.10.1"
    },
    "orig_nbformat": 4,
    "vscode": {
      "interpreter": {
        "hash": "26de051ba29f2982a8de78e945f0abaf191376122a1563185a90213a26c5da77"
      }
    }
  },
  "nbformat": 4,
  "nbformat_minor": 0
}
